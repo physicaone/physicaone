{
 "cells": [
  {
   "cell_type": "code",
   "execution_count": 1,
   "id": "d5d7de07-c88e-426d-917e-9eca8b64a983",
   "metadata": {},
   "outputs": [],
   "source": [
    "import numpy as np\n",
    "import matplotlib.pyplot as plt\n",
    "from tqdm import tqdm\n",
    "import warnings\n",
    "warnings.filterwarnings(action = 'ignore')\n",
    "import pickle\n",
    "import pandas as pd"
   ]
  },
  {
   "cell_type": "code",
   "execution_count": 3,
   "id": "4a1b4aa7-88ef-4bab-8f14-958b70ee9a38",
   "metadata": {},
   "outputs": [],
   "source": [
    "#magnetization per spin을 구합니다.\n",
    "def magnetization(lattice):\n",
    "    L = len(lattice)\n",
    "    m = 0\n",
    "    for i in range(L): \n",
    "        for j in range(L): \n",
    "            m += lattice[i,j]\n",
    "    return abs(m)/L**2\n",
    "\n",
    "def auto_correlation(lattice_size, temperature, equilibrium, number_of_samples):\n",
    "    config=np.ones((lattice_size,lattice_size));\n",
    "    correlation,mags=[],[];\n",
    "    #Until the configuration reaches equilibrium state, repeats MCS.\n",
    "    for i in range(equilibrium): \n",
    "        for j in range(lattice_size**2): \n",
    "            x,y=np.random.randint(0,lattice_size),np.random.randint(0,lattice_size)\n",
    "            s=config[x,y]\n",
    "            neigh=config[(x+1)%lattice_size,y]+config[x,(y+1)%lattice_size]+config[(x-1)%lattice_size,y]+config[x,(y-1)%lattice_size]\n",
    "            DE=2*s*neigh\n",
    "            if DE<0: s*=-1\n",
    "            elif np.random.rand()<np.exp(-DE*1/temperature):s*=-1\n",
    "            config[x,y]=s   \n",
    "    mags.append(magnetization(config))\n",
    "    \n",
    "    #now configuration reaches at equilibrium\n",
    "    #we should sample samples.\n",
    "    for i in range(number_of_samples-1): #number_of_samples개 만큼의 sample에 대해서 correlation을 살펴본다.  \n",
    "        for j in range(lattice_size**2):\n",
    "            x,y=np.random.randint(0,lattice_size),np.random.randint(0,lattice_size)\n",
    "            s=config[x,y]\n",
    "            neigh=config[(x+1)%lattice_size,y]+config[x,(y+1)%lattice_size]+config[(x-1)%lattice_size,y]+config[x,(y-1)%lattice_size]\n",
    "            DE=2*s*neigh\n",
    "            if DE<0: s*=-1\n",
    "            elif np.random.rand()<np.exp(-DE*1/temperature):s*=-1\n",
    "            config[x,y]=s\n",
    "        mags.append(magnetization(config))    \n",
    "    #이 부분이 autocorrelation을 계산하는 부분입니다. \n",
    "    for t in range(len(mags)):\n",
    "        mean1,mean2,mean3=0,0,0;\n",
    "        for j in range(len(mags)-t):\n",
    "            mean1+=1/(len(mags)-t)*mags[t+j]*mags[j];\n",
    "            mean2+=1/(len(mags)-t)*mags[t+j];\n",
    "            mean3+=1/(len(mags)-t)*mags[j];\n",
    "        correlation.append(mean1-mean2*mean3) #correlation is list of floats\n",
    "    return correlation"
   ]
  },
  {
   "cell_type": "code",
   "execution_count": 5,
   "id": "83bb23d3-7884-4b33-a156-828af186b1ea",
   "metadata": {},
   "outputs": [
    {
     "name": "stderr",
     "output_type": "stream",
     "text": [
      "temperature: 100%|██████████| 101/101 [19:59<00:00, 11.88s/it]\n"
     ]
    }
   ],
   "source": [
    "Ens=[]\n",
    "for tt in tqdm(Temperature,desc=\"temperature\"):\n",
    "    cor=[]\n",
    "    x=0\n",
    "    for ens in range(512):\n",
    "        cor.append(np.array(auto_correlation(lattice_size=3,temperature=tt,equilibrium=300,number_of_samples=100)))\n",
    "    for i in range(len(cor)):\n",
    "        x+=cor[i]/len(cor) #it might be numpy array\n",
    "    Ens.append(x) #list of array for each temperature"
   ]
  }
 ],
 "metadata": {
  "kernelspec": {
   "display_name": "Python 3",
   "language": "python",
   "name": "python3"
  },
  "language_info": {
   "codemirror_mode": {
    "name": "ipython",
    "version": 3
   },
   "file_extension": ".py",
   "mimetype": "text/x-python",
   "name": "python",
   "nbconvert_exporter": "python",
   "pygments_lexer": "ipython3",
   "version": "3.8.8"
  }
 },
 "nbformat": 4,
 "nbformat_minor": 5
}
